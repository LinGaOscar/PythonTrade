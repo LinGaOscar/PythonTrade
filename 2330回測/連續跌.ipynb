{
 "cells": [
  {
   "cell_type": "code",
   "execution_count": 1,
   "id": "be43d605-672a-4ab2-ae62-3605bf3d2d4e",
   "metadata": {},
   "outputs": [],
   "source": [
    "import pandas as pd\n",
    "import numpy as np\n",
    "import matplotlib.pyplot as plt\n",
    "df = pd.read_csv('../price.csv',index_col=['stock_id','date'],parse_dates=['date'])\n"
   ]
  },
  {
   "cell_type": "code",
   "execution_count": 2,
   "id": "97070d9c-4103-4ae4-b3cc-54ddd326ed1f",
   "metadata": {},
   "outputs": [
    {
     "data": {
      "text/html": [
       "<div>\n",
       "<style scoped>\n",
       "    .dataframe tbody tr th:only-of-type {\n",
       "        vertical-align: middle;\n",
       "    }\n",
       "\n",
       "    .dataframe tbody tr th {\n",
       "        vertical-align: top;\n",
       "    }\n",
       "\n",
       "    .dataframe thead th {\n",
       "        text-align: right;\n",
       "    }\n",
       "</style>\n",
       "<table border=\"1\" class=\"dataframe\">\n",
       "  <thead>\n",
       "    <tr style=\"text-align: right;\">\n",
       "      <th></th>\n",
       "      <th>open</th>\n",
       "      <th>high</th>\n",
       "      <th>low</th>\n",
       "      <th>close</th>\n",
       "      <th>volume</th>\n",
       "    </tr>\n",
       "    <tr>\n",
       "      <th>date</th>\n",
       "      <th></th>\n",
       "      <th></th>\n",
       "      <th></th>\n",
       "      <th></th>\n",
       "      <th></th>\n",
       "    </tr>\n",
       "  </thead>\n",
       "  <tbody>\n",
       "    <tr>\n",
       "      <th>2007-01-02</th>\n",
       "      <td>67.8</td>\n",
       "      <td>68.0</td>\n",
       "      <td>67.3</td>\n",
       "      <td>67.7</td>\n",
       "      <td>1768131919</td>\n",
       "    </tr>\n",
       "    <tr>\n",
       "      <th>2007-01-03</th>\n",
       "      <td>67.8</td>\n",
       "      <td>68.7</td>\n",
       "      <td>67.5</td>\n",
       "      <td>68.0</td>\n",
       "      <td>2875024398</td>\n",
       "    </tr>\n",
       "    <tr>\n",
       "      <th>2007-01-04</th>\n",
       "      <td>67.7</td>\n",
       "      <td>68.1</td>\n",
       "      <td>67.6</td>\n",
       "      <td>67.7</td>\n",
       "      <td>1514454033</td>\n",
       "    </tr>\n",
       "    <tr>\n",
       "      <th>2007-01-05</th>\n",
       "      <td>67.5</td>\n",
       "      <td>67.7</td>\n",
       "      <td>66.5</td>\n",
       "      <td>66.9</td>\n",
       "      <td>2048997239</td>\n",
       "    </tr>\n",
       "    <tr>\n",
       "      <th>2007-01-08</th>\n",
       "      <td>66.1</td>\n",
       "      <td>66.5</td>\n",
       "      <td>65.7</td>\n",
       "      <td>65.8</td>\n",
       "      <td>1595029837</td>\n",
       "    </tr>\n",
       "    <tr>\n",
       "      <th>...</th>\n",
       "      <td>...</td>\n",
       "      <td>...</td>\n",
       "      <td>...</td>\n",
       "      <td>...</td>\n",
       "      <td>...</td>\n",
       "    </tr>\n",
       "    <tr>\n",
       "      <th>2024-11-04</th>\n",
       "      <td>1030.0</td>\n",
       "      <td>1045.0</td>\n",
       "      <td>1025.0</td>\n",
       "      <td>1040.0</td>\n",
       "      <td>29263376605</td>\n",
       "    </tr>\n",
       "    <tr>\n",
       "      <th>2024-11-05</th>\n",
       "      <td>1030.0</td>\n",
       "      <td>1055.0</td>\n",
       "      <td>1030.0</td>\n",
       "      <td>1050.0</td>\n",
       "      <td>34851674542</td>\n",
       "    </tr>\n",
       "    <tr>\n",
       "      <th>2024-11-06</th>\n",
       "      <td>1050.0</td>\n",
       "      <td>1080.0</td>\n",
       "      <td>1040.0</td>\n",
       "      <td>1060.0</td>\n",
       "      <td>63110184620</td>\n",
       "    </tr>\n",
       "    <tr>\n",
       "      <th>2024-11-07</th>\n",
       "      <td>1050.0</td>\n",
       "      <td>1075.0</td>\n",
       "      <td>1050.0</td>\n",
       "      <td>1065.0</td>\n",
       "      <td>48979606039</td>\n",
       "    </tr>\n",
       "    <tr>\n",
       "      <th>2024-11-08</th>\n",
       "      <td>1085.0</td>\n",
       "      <td>1090.0</td>\n",
       "      <td>1080.0</td>\n",
       "      <td>1090.0</td>\n",
       "      <td>42224017162</td>\n",
       "    </tr>\n",
       "  </tbody>\n",
       "</table>\n",
       "<p>1030 rows × 5 columns</p>\n",
       "</div>"
      ],
      "text/plain": [
       "              open    high     low   close       volume\n",
       "date                                                   \n",
       "2007-01-02    67.8    68.0    67.3    67.7   1768131919\n",
       "2007-01-03    67.8    68.7    67.5    68.0   2875024398\n",
       "2007-01-04    67.7    68.1    67.6    67.7   1514454033\n",
       "2007-01-05    67.5    67.7    66.5    66.9   2048997239\n",
       "2007-01-08    66.1    66.5    65.7    65.8   1595029837\n",
       "...            ...     ...     ...     ...          ...\n",
       "2024-11-04  1030.0  1045.0  1025.0  1040.0  29263376605\n",
       "2024-11-05  1030.0  1055.0  1030.0  1050.0  34851674542\n",
       "2024-11-06  1050.0  1080.0  1040.0  1060.0  63110184620\n",
       "2024-11-07  1050.0  1075.0  1050.0  1065.0  48979606039\n",
       "2024-11-08  1085.0  1090.0  1080.0  1090.0  42224017162\n",
       "\n",
       "[1030 rows x 5 columns]"
      ]
     },
     "execution_count": 2,
     "metadata": {},
     "output_type": "execute_result"
    }
   ],
   "source": [
    "df = df.rename(columns={\n",
    "    '開盤價':'open',\n",
    "    '最高價':'high',\n",
    "    '最低價':'low',\n",
    "    '收盤價':'close',\n",
    "    '成交金額':'volume'\n",
    "})\n",
    "df = df[['open','high','low','close','volume']]\n",
    "df = df.loc[df['volume']>0]\n",
    "df = df.apply(pd.to_numeric,errors='coerce')\n",
    "df = df.loc['2330']\n",
    "df"
   ]
  },
  {
   "cell_type": "code",
   "execution_count": 3,
   "id": "549c4fc7-04a9-448f-b2f0-4c232dd586c1",
   "metadata": {},
   "outputs": [
    {
     "name": "stderr",
     "output_type": "stream",
     "text": [
      "C:\\Users\\Oscar\\AppData\\Local\\Temp\\ipykernel_23212\\1587446169.py:3: FutureWarning: Setting an item of incompatible dtype is deprecated and will raise an error in a future version of pandas. Value '[ -0.5   1.4   0.    1.6  -0.1   1.    0.1   1.7  -0.9   2.9  -0.5   1.\n",
      "   0.5  -0.5  -1.3   0.5  -1.    0.5  -0.5  -0.1   0.3   0.    0.    0.2\n",
      "  -0.1   1.6   1.5   0.    0.2   3.1  -1.6   0.   -1.3   3.3   6.5  -7.5\n",
      "   0.   28.   -4.5  15.   -6.   11.   15.    6.   -2.5  14.    3.   -1.5\n",
      "  -2.   38.   -5.    5.   -3.   -3.  -10.    2.   17.    4.   -7.   -1.\n",
      "  -1.   -2.   39.    9.   -9.    6.   17.   21.  -11.   -5.   14.    6.\n",
      "  -3.   22.   -3.    1.    5.   33.   18.    6.   13.    2.  -17.   41.\n",
      "  -5. ]' has dtype incompatible with int64, please explicitly cast to a compatible dtype first.\n",
      "  df.loc[condition,'earn']= df['open'].shift(-2) - df['open'].shift(-1)\n"
     ]
    },
    {
     "data": {
      "text/plain": [
       "<Axes: xlabel='date'>"
      ]
     },
     "execution_count": 3,
     "metadata": {},
     "output_type": "execute_result"
    },
    {
     "data": {
      "image/png": "[encoded data removed]",
      "text/plain": [
       "<Figure size 640x480 with 1 Axes>"
      ]
     },
     "metadata": {},
     "output_type": "display_data"
    }
   ],
   "source": [
    "condition = (df['close'].shift(2)-df['open'].shift(2)<0) & (df['close'].shift(1)-df['open'].shift(1)<0) & (df['close']-df['open']<0)\n",
    "df['earn']=0\n",
    "df.loc[condition,'earn']= df['open'].shift(-2) - df['open'].shift(-1)\n",
    "df['earn'].cumsum().plot()"
   ]
  },
  {
   "cell_type": "code",
   "execution_count": 4,
   "id": "8edd47ee-fb82-465a-96a3-f22052f8198f",
   "metadata": {},
   "outputs": [
    {
     "name": "stderr",
     "output_type": "stream",
     "text": [
      "C:\\Users\\Oscar\\AppData\\Local\\Programs\\Python\\Python310\\lib\\site-packages\\pyfolio\\pos.py:26: UserWarning: Module \"zipline.assets\" not found; mutltipliers will not be applied to position notionals.\n",
      "  warnings.warn(\n"
     ]
    }
   ],
   "source": [
    "import pyfolio as pf"
   ]
  },
  {
   "cell_type": "code",
   "execution_count": 5,
   "id": "d89bb0c6-2ea8-4119-a285-7a42a4524461",
   "metadata": {},
   "outputs": [
    {
     "name": "stderr",
     "output_type": "stream",
     "text": [
      "C:\\Users\\Oscar\\AppData\\Local\\Programs\\Python\\Python310\\lib\\site-packages\\empyrical\\stats.py:1527: RuntimeWarning: invalid value encountered in double_scalars\n",
      "  return np.abs(np.percentile(returns, 95)) / \\\n"
     ]
    },
    {
     "ename": "AttributeError",
     "evalue": "'Series' object has no attribute 'iteritems'",
     "output_type": "error",
     "traceback": [
      "\u001b[1;31m---------------------------------------------------------------------------\u001b[0m",
      "\u001b[1;31mAttributeError\u001b[0m                            Traceback (most recent call last)",
      "Cell \u001b[1;32mIn[5], line 1\u001b[0m\n\u001b[1;32m----> 1\u001b[0m \u001b[43mpf\u001b[49m\u001b[38;5;241;43m.\u001b[39;49m\u001b[43mcreate_returns_tear_sheet\u001b[49m\u001b[43m(\u001b[49m\u001b[43mdf\u001b[49m\u001b[43m[\u001b[49m\u001b[38;5;124;43m'\u001b[39;49m\u001b[38;5;124;43mearn\u001b[39;49m\u001b[38;5;124;43m'\u001b[39;49m\u001b[43m]\u001b[49m\u001b[38;5;241;43m/\u001b[39;49m\u001b[43mdf\u001b[49m\u001b[43m[\u001b[49m\u001b[38;5;124;43m'\u001b[39;49m\u001b[38;5;124;43mopen\u001b[39;49m\u001b[38;5;124;43m'\u001b[39;49m\u001b[43m]\u001b[49m\u001b[38;5;241;43m.\u001b[39;49m\u001b[43mshift\u001b[49m\u001b[43m(\u001b[49m\u001b[38;5;241;43m-\u001b[39;49m\u001b[38;5;241;43m1\u001b[39;49m\u001b[43m)\u001b[49m\u001b[43m)\u001b[49m\n",
      "File \u001b[1;32m~\\AppData\\Local\\Programs\\Python\\Python310\\lib\\site-packages\\pyfolio\\plotting.py:52\u001b[0m, in \u001b[0;36mcustomize.<locals>.call_w_context\u001b[1;34m(*args, **kwargs)\u001b[0m\n\u001b[0;32m     50\u001b[0m \u001b[38;5;28;01mif\u001b[39;00m set_context:\n\u001b[0;32m     51\u001b[0m     \u001b[38;5;28;01mwith\u001b[39;00m plotting_context(), axes_style():\n\u001b[1;32m---> 52\u001b[0m         \u001b[38;5;28;01mreturn\u001b[39;00m func(\u001b[38;5;241m*\u001b[39margs, \u001b[38;5;241m*\u001b[39m\u001b[38;5;241m*\u001b[39mkwargs)\n\u001b[0;32m     53\u001b[0m \u001b[38;5;28;01melse\u001b[39;00m:\n\u001b[0;32m     54\u001b[0m     \u001b[38;5;28;01mreturn\u001b[39;00m func(\u001b[38;5;241m*\u001b[39margs, \u001b[38;5;241m*\u001b[39m\u001b[38;5;241m*\u001b[39mkwargs)\n",
      "File \u001b[1;32m~\\AppData\\Local\\Programs\\Python\\Python310\\lib\\site-packages\\pyfolio\\tears.py:496\u001b[0m, in \u001b[0;36mcreate_returns_tear_sheet\u001b[1;34m(returns, positions, transactions, live_start_date, cone_std, benchmark_rets, bootstrap, turnover_denom, header_rows, return_fig)\u001b[0m\n\u001b[0;32m    493\u001b[0m \u001b[38;5;28;01mif\u001b[39;00m benchmark_rets \u001b[38;5;129;01mis\u001b[39;00m \u001b[38;5;129;01mnot\u001b[39;00m \u001b[38;5;28;01mNone\u001b[39;00m:\n\u001b[0;32m    494\u001b[0m     returns \u001b[38;5;241m=\u001b[39m utils\u001b[38;5;241m.\u001b[39mclip_returns_to_benchmark(returns, benchmark_rets)\n\u001b[1;32m--> 496\u001b[0m \u001b[43mplotting\u001b[49m\u001b[38;5;241;43m.\u001b[39;49m\u001b[43mshow_perf_stats\u001b[49m\u001b[43m(\u001b[49m\u001b[43mreturns\u001b[49m\u001b[43m,\u001b[49m\u001b[43m \u001b[49m\u001b[43mbenchmark_rets\u001b[49m\u001b[43m,\u001b[49m\n\u001b[0;32m    497\u001b[0m \u001b[43m                         \u001b[49m\u001b[43mpositions\u001b[49m\u001b[38;5;241;43m=\u001b[39;49m\u001b[43mpositions\u001b[49m\u001b[43m,\u001b[49m\n\u001b[0;32m    498\u001b[0m \u001b[43m                         \u001b[49m\u001b[43mtransactions\u001b[49m\u001b[38;5;241;43m=\u001b[39;49m\u001b[43mtransactions\u001b[49m\u001b[43m,\u001b[49m\n\u001b[0;32m    499\u001b[0m \u001b[43m                         \u001b[49m\u001b[43mturnover_denom\u001b[49m\u001b[38;5;241;43m=\u001b[39;49m\u001b[43mturnover_denom\u001b[49m\u001b[43m,\u001b[49m\n\u001b[0;32m    500\u001b[0m \u001b[43m                         \u001b[49m\u001b[43mbootstrap\u001b[49m\u001b[38;5;241;43m=\u001b[39;49m\u001b[43mbootstrap\u001b[49m\u001b[43m,\u001b[49m\n\u001b[0;32m    501\u001b[0m \u001b[43m                         \u001b[49m\u001b[43mlive_start_date\u001b[49m\u001b[38;5;241;43m=\u001b[39;49m\u001b[43mlive_start_date\u001b[49m\u001b[43m,\u001b[49m\n\u001b[0;32m    502\u001b[0m \u001b[43m                         \u001b[49m\u001b[43mheader_rows\u001b[49m\u001b[38;5;241;43m=\u001b[39;49m\u001b[43mheader_rows\u001b[49m\u001b[43m)\u001b[49m\n\u001b[0;32m    504\u001b[0m plotting\u001b[38;5;241m.\u001b[39mshow_worst_drawdown_periods(returns)\n\u001b[0;32m    506\u001b[0m vertical_sections \u001b[38;5;241m=\u001b[39m \u001b[38;5;241m11\u001b[39m\n",
      "File \u001b[1;32m~\\AppData\\Local\\Programs\\Python\\Python310\\lib\\site-packages\\pyfolio\\plotting.py:648\u001b[0m, in \u001b[0;36mshow_perf_stats\u001b[1;34m(returns, factor_returns, positions, transactions, turnover_denom, live_start_date, bootstrap, header_rows)\u001b[0m\n\u001b[0;32m    645\u001b[0m     perf_stats \u001b[38;5;241m=\u001b[39m pd\u001b[38;5;241m.\u001b[39mDataFrame(perf_stats_all, columns\u001b[38;5;241m=\u001b[39m[\u001b[38;5;124m'\u001b[39m\u001b[38;5;124mBacktest\u001b[39m\u001b[38;5;124m'\u001b[39m])\n\u001b[0;32m    647\u001b[0m \u001b[38;5;28;01mfor\u001b[39;00m column \u001b[38;5;129;01min\u001b[39;00m perf_stats\u001b[38;5;241m.\u001b[39mcolumns:\n\u001b[1;32m--> 648\u001b[0m     \u001b[38;5;28;01mfor\u001b[39;00m stat, value \u001b[38;5;129;01min\u001b[39;00m \u001b[43mperf_stats\u001b[49m\u001b[43m[\u001b[49m\u001b[43mcolumn\u001b[49m\u001b[43m]\u001b[49m\u001b[38;5;241;43m.\u001b[39;49m\u001b[43miteritems\u001b[49m():\n\u001b[0;32m    649\u001b[0m         \u001b[38;5;28;01mif\u001b[39;00m stat \u001b[38;5;129;01min\u001b[39;00m STAT_FUNCS_PCT:\n\u001b[0;32m    650\u001b[0m             perf_stats\u001b[38;5;241m.\u001b[39mloc[stat, column] \u001b[38;5;241m=\u001b[39m \u001b[38;5;28mstr\u001b[39m(np\u001b[38;5;241m.\u001b[39mround(value \u001b[38;5;241m*\u001b[39m \u001b[38;5;241m100\u001b[39m,\n\u001b[0;32m    651\u001b[0m                                                         \u001b[38;5;241m1\u001b[39m)) \u001b[38;5;241m+\u001b[39m \u001b[38;5;124m'\u001b[39m\u001b[38;5;124m%\u001b[39m\u001b[38;5;124m'\u001b[39m\n",
      "File \u001b[1;32m~\\AppData\\Local\\Programs\\Python\\Python310\\lib\\site-packages\\pandas\\core\\generic.py:6299\u001b[0m, in \u001b[0;36mNDFrame.__getattr__\u001b[1;34m(self, name)\u001b[0m\n\u001b[0;32m   6292\u001b[0m \u001b[38;5;28;01mif\u001b[39;00m (\n\u001b[0;32m   6293\u001b[0m     name \u001b[38;5;129;01mnot\u001b[39;00m \u001b[38;5;129;01min\u001b[39;00m \u001b[38;5;28mself\u001b[39m\u001b[38;5;241m.\u001b[39m_internal_names_set\n\u001b[0;32m   6294\u001b[0m     \u001b[38;5;129;01mand\u001b[39;00m name \u001b[38;5;129;01mnot\u001b[39;00m \u001b[38;5;129;01min\u001b[39;00m \u001b[38;5;28mself\u001b[39m\u001b[38;5;241m.\u001b[39m_metadata\n\u001b[0;32m   6295\u001b[0m     \u001b[38;5;129;01mand\u001b[39;00m name \u001b[38;5;129;01mnot\u001b[39;00m \u001b[38;5;129;01min\u001b[39;00m \u001b[38;5;28mself\u001b[39m\u001b[38;5;241m.\u001b[39m_accessors\n\u001b[0;32m   6296\u001b[0m     \u001b[38;5;129;01mand\u001b[39;00m \u001b[38;5;28mself\u001b[39m\u001b[38;5;241m.\u001b[39m_info_axis\u001b[38;5;241m.\u001b[39m_can_hold_identifiers_and_holds_name(name)\n\u001b[0;32m   6297\u001b[0m ):\n\u001b[0;32m   6298\u001b[0m     \u001b[38;5;28;01mreturn\u001b[39;00m \u001b[38;5;28mself\u001b[39m[name]\n\u001b[1;32m-> 6299\u001b[0m \u001b[38;5;28;01mreturn\u001b[39;00m \u001b[38;5;28;43mobject\u001b[39;49m\u001b[38;5;241;43m.\u001b[39;49m\u001b[38;5;21;43m__getattribute__\u001b[39;49m\u001b[43m(\u001b[49m\u001b[38;5;28;43mself\u001b[39;49m\u001b[43m,\u001b[49m\u001b[43m \u001b[49m\u001b[43mname\u001b[49m\u001b[43m)\u001b[49m\n",
      "\u001b[1;31mAttributeError\u001b[0m: 'Series' object has no attribute 'iteritems'"
     ]
    }
   ],
   "source": [
    "pf.create_returns_tear_sheet(df['earn']/df['open'].shift(-1))"
   ]
  }
 ],
 "metadata": {
  "kernelspec": {
   "display_name": "Python 3 (ipykernel)",
   "language": "python",
   "name": "python3"
  },
  "language_info": {
   "codemirror_mode": {
    "name": "ipython",
    "version": 3
   },
   "file_extension": ".py",
   "mimetype": "text/x-python",
   "name": "python",
   "nbconvert_exporter": "python",
   "pygments_lexer": "ipython3",
   "version": "3.10.0"
  }
 },
 "nbformat": 4,
 "nbformat_minor": 5
}
